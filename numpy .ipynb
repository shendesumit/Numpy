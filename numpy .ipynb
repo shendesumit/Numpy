{
 "cells": [
  {
   "cell_type": "markdown",
   "id": "e738bde4",
   "metadata": {},
   "source": [
    "# NUMPY ARRAY"
   ]
  },
  {
   "cell_type": "code",
   "execution_count": 1,
   "id": "b7840f3c",
   "metadata": {},
   "outputs": [],
   "source": [
    "import numpy as np\n",
    "\n",
    "from IPython.core.interactiveshell import InteractiveShell\n",
    "InteractiveShell.ast_node_interactivity = 'all'"
   ]
  },
  {
   "cell_type": "code",
   "execution_count": 2,
   "id": "bdbc0184",
   "metadata": {},
   "outputs": [
    {
     "data": {
      "text/plain": [
       "array([1, 2, 3, 4])"
      ]
     },
     "execution_count": 2,
     "metadata": {},
     "output_type": "execute_result"
    },
    {
     "data": {
      "text/plain": [
       "array([10, 20, 30, 40])"
      ]
     },
     "execution_count": 2,
     "metadata": {},
     "output_type": "execute_result"
    },
    {
     "data": {
      "text/plain": [
       "array([ 1,  2,  3,  4,  5,  6,  7,  8,  9, 10, 11, 12, 13, 14, 15, 16, 17,\n",
       "       18, 19])"
      ]
     },
     "execution_count": 2,
     "metadata": {},
     "output_type": "execute_result"
    }
   ],
   "source": [
    "#creatr a 1D array\n",
    "np.array([1,2,3,4])\n",
    "np.array((10,20,30,40))\n",
    "np.array(range(1,20))"
   ]
  },
  {
   "cell_type": "code",
   "execution_count": 3,
   "id": "27ffe927",
   "metadata": {},
   "outputs": [
    {
     "name": "stdout",
     "output_type": "stream",
     "text": [
      "[1 2 3 4]\n",
      "[10 20 30]\n",
      "[0 1 2 3 4 5 6 7 8 9]\n"
     ]
    }
   ],
   "source": [
    "print(np.array([1,2,3,4]))\n",
    "print(np.array((10,20,30)))\n",
    "print(np.array(range(0,10)))"
   ]
  },
  {
   "cell_type": "code",
   "execution_count": 4,
   "id": "291f4a1e",
   "metadata": {},
   "outputs": [
    {
     "name": "stdout",
     "output_type": "stream",
     "text": [
      "[0 1 2 3 4 5 6 7 8 9]\n",
      "(10,)\n",
      "[10 20 30]\n",
      "(3,)\n",
      "****************************************\n",
      "[[1 2 3 4 5]]\n",
      "[[[  10   20   30]\n",
      "  [ 100  200  300]\n",
      "  [1000 2000 3000]]]\n",
      "(1, 3, 3)\n"
     ]
    }
   ],
   "source": [
    "x = np.array(range(0,10))\n",
    "print(x, x.shape,sep = '\\n')\n",
    "y = np.array([10,20,30])\n",
    "print(y, y.shape,sep = '\\n')\n",
    "\n",
    "print('*'*40)\n",
    "\n",
    "# creating 2D array\n",
    "array2d = np.array([[1,2,3,4,5]])\n",
    "print(array2d)\n",
    "array3d = np.array([[[10,20,30,],[100,200,300],[1000,2000,3000]]])\n",
    "print(array3d,array3d.shape,sep = '\\n')"
   ]
  },
  {
   "cell_type": "code",
   "execution_count": 5,
   "id": "b0cbdd2c",
   "metadata": {},
   "outputs": [
    {
     "data": {
      "text/plain": [
       "array([[[10, 20, 30, 40]]])"
      ]
     },
     "execution_count": 5,
     "metadata": {},
     "output_type": "execute_result"
    },
    {
     "name": "stdout",
     "output_type": "stream",
     "text": [
      "(1, 1, 4)\n"
     ]
    },
    {
     "data": {
      "text/plain": [
       "array([10, 20, 40, 50])"
      ]
     },
     "execution_count": 5,
     "metadata": {},
     "output_type": "execute_result"
    },
    {
     "data": {
      "text/plain": [
       "(4,)"
      ]
     },
     "execution_count": 5,
     "metadata": {},
     "output_type": "execute_result"
    },
    {
     "data": {
      "text/plain": [
       "array([[2, 3, 4, 6, 7]])"
      ]
     },
     "execution_count": 5,
     "metadata": {},
     "output_type": "execute_result"
    },
    {
     "data": {
      "text/plain": [
       "(1, 5)"
      ]
     },
     "execution_count": 5,
     "metadata": {},
     "output_type": "execute_result"
    }
   ],
   "source": [
    "np.array([[[10,20,30,40]]])\n",
    "print(np.array([[[10,20,30,40]]]).shape)\n",
    "np.array([10,20,40,50])\n",
    "np.array([10,20,40,50]).shape\n",
    "np.array([[2,3,4,6,7]])\n",
    "np.array([[2,3,4,6,7]]).shape"
   ]
  },
  {
   "cell_type": "markdown",
   "id": "42c00fa9",
   "metadata": {},
   "source": [
    "## Numpy array properties"
   ]
  },
  {
   "cell_type": "code",
   "execution_count": 6,
   "id": "37d3ec88",
   "metadata": {},
   "outputs": [],
   "source": [
    "#array.shape= a tuple that specifies the number of elements for eachdiamension of the array.\n",
    "#array.ndim = determines the no.of diamension of an array.\n",
    "#array.dtype = every ndarray has as associated data type (dtype) object from the numpy\n",
    "#array.size = the total numbers elements in the array.\n",
    "#array.nbytes = number of bytes used to store the data. "
   ]
  },
  {
   "cell_type": "code",
   "execution_count": 7,
   "id": "f3058d91",
   "metadata": {},
   "outputs": [
    {
     "data": {
      "text/plain": [
       "1"
      ]
     },
     "execution_count": 7,
     "metadata": {},
     "output_type": "execute_result"
    },
    {
     "data": {
      "text/plain": [
       "numpy.ndarray"
      ]
     },
     "execution_count": 7,
     "metadata": {},
     "output_type": "execute_result"
    }
   ],
   "source": [
    "len(array3d) # len returns the length of the first diamenssion to be the compatible with python lists\n",
    "type(array3d) # python type"
   ]
  },
  {
   "cell_type": "markdown",
   "id": "d2662bf4",
   "metadata": {},
   "source": [
    "## NumPy Arrays v/s List"
   ]
  },
  {
   "cell_type": "markdown",
   "id": "afbd16b0",
   "metadata": {},
   "source": [
    "**Similarity between list and array**\n",
    "* Both are used for storing data.\n",
    "* Both are mutable.\n",
    "* Both can be indexed and iterated through.\n",
    "* Both ca be sliced.\n",
    "\n",
    "**Differences:**"
   ]
  },
  {
   "cell_type": "code",
   "execution_count": 8,
   "id": "eefebec1",
   "metadata": {},
   "outputs": [
    {
     "name": "stdout",
     "output_type": "stream",
     "text": [
      "[1, 'sumit', True, 18.4]\n",
      "sumit\n",
      "<class 'list'>\n"
     ]
    }
   ],
   "source": [
    "# Python Lists are an ordered sequence of heterogeneous elements.\n",
    "\n",
    "bag = [1,'sumit',True,18.4]\n",
    "print(bag)\n",
    "print(bag[1])\n",
    "print(type(bag))"
   ]
  },
  {
   "cell_type": "code",
   "execution_count": 9,
   "id": "34f12b55",
   "metadata": {},
   "outputs": [
    {
     "name": "stdout",
     "output_type": "stream",
     "text": [
      "[[2 3 4 5]\n",
      " [2 4 5 6]]\n",
      "(2, 4)\n",
      "int32\n"
     ]
    }
   ],
   "source": [
    "# In numpy, the array must contain data of same type (homogeneous).\n",
    "\n",
    "arr3d = np.array([(2,3,4,5),(2,4,5,6)])\n",
    "print(arr3d,arr3d.shape, sep='\\n')\n",
    "print(arr3d.dtype)"
   ]
  },
  {
   "cell_type": "code",
   "execution_count": 10,
   "id": "fe1d9c3b",
   "metadata": {},
   "outputs": [
    {
     "name": "stdout",
     "output_type": "stream",
     "text": [
      "[[2.  4.4 6. ]\n",
      " [3.  4.  7. ]]\n",
      "(2, 3)\n",
      "float64\n"
     ]
    }
   ],
   "source": [
    "arr2 = np.array([(2,4.4,6),(3,4,7)])\n",
    "print(arr2,arr2.shape,sep = '\\n')\n",
    "print(arr2.dtype)"
   ]
  },
  {
   "cell_type": "code",
   "execution_count": 11,
   "id": "45d24f8e",
   "metadata": {},
   "outputs": [
    {
     "name": "stdout",
     "output_type": "stream",
     "text": [
      "[['1' '3' '5' '7']\n",
      " ['2' '4' '6' '4']]\n",
      "(2, 4)\n",
      "<U11\n"
     ]
    }
   ],
   "source": [
    "arr4 = np.array([(1,3,5,7),(2,4,6,'4')])\n",
    "print(arr4,arr4.shape,arr4.dtype,sep='\\n')"
   ]
  },
  {
   "cell_type": "code",
   "execution_count": 12,
   "id": "21ea78bf",
   "metadata": {},
   "outputs": [
    {
     "name": "stdout",
     "output_type": "stream",
     "text": [
      "[3, 4, 6, 7, 3]\n"
     ]
    }
   ],
   "source": [
    "y = [3,4,6,7,3]\n",
    "print(y)"
   ]
  },
  {
   "cell_type": "code",
   "execution_count": 13,
   "id": "1a53b26a",
   "metadata": {},
   "outputs": [],
   "source": [
    "#y**2"
   ]
  },
  {
   "cell_type": "code",
   "execution_count": 14,
   "id": "f7487b76",
   "metadata": {},
   "outputs": [
    {
     "name": "stdout",
     "output_type": "stream",
     "text": [
      "[3 4 6 7 3]\n",
      "[ 9 16 36 49  9]\n"
     ]
    }
   ],
   "source": [
    "y = np.array([3,4,6,7,3])\n",
    "print(y)\n",
    "print(y**2)"
   ]
  },
  {
   "cell_type": "markdown",
   "id": "0af36637",
   "metadata": {},
   "source": [
    "### Reshape an array"
   ]
  },
  {
   "cell_type": "code",
   "execution_count": 15,
   "id": "7db22f91",
   "metadata": {},
   "outputs": [
    {
     "name": "stdout",
     "output_type": "stream",
     "text": [
      "[0 1 2 3 4 5 6 7 8 9]\n",
      "shape of the array: (10,)\n",
      "------------------------------\n",
      "[2 3]\n",
      "shape of the array: (2,)\n",
      "******************************\n",
      "[]\n"
     ]
    }
   ],
   "source": [
    "array2 = np.array(range(0,10))\n",
    "print(array2)\n",
    "print(\"shape of the array:\",array2.shape)\n",
    "print('-'*30)\n",
    "arra3 = np.array (range(2,4))\n",
    "print(arra3)\n",
    "print('shape of the array:',arra3.shape)\n",
    "print(\"*\"*30)\n",
    "arra = np.array(range(4,2))\n",
    "print(arra)"
   ]
  },
  {
   "cell_type": "code",
   "execution_count": 16,
   "id": "0734797d",
   "metadata": {},
   "outputs": [
    {
     "name": "stdout",
     "output_type": "stream",
     "text": [
      "[0 1 2 3 4 5 6 7 8 9]\n",
      "shape of the array: (10,)\n",
      "******************************\n",
      "[[0 1 2 3 4]\n",
      " [5 6 7 8 9]]\n",
      "..............................\n",
      "[[0 1]\n",
      " [2 3]\n",
      " [4 5]\n",
      " [6 7]\n",
      " [8 9]]\n",
      "==============================\n",
      "[[[0 1 2 3 4]\n",
      "  [5 6 7 8 9]]]\n"
     ]
    }
   ],
   "source": [
    "array3 = np.array(range(0,10))\n",
    "print(array3)\n",
    "print(\"shape of the array:\",array3.shape)\n",
    "print(\"*\"*30)\n",
    "\n",
    "arra1 = array3.reshape(2,5)\n",
    "print(arra1)\n",
    "print('.'*30)\n",
    "arra1 = array3.reshape(5,2)\n",
    "print(arra1)\n",
    "print('='*30)\n",
    "arra1 = array3.reshape(1,2,5)\n",
    "print(arra1)"
   ]
  },
  {
   "cell_type": "code",
   "execution_count": 17,
   "id": "04928ed9",
   "metadata": {},
   "outputs": [
    {
     "data": {
      "text/plain": [
       "array([[[100, 101, 102],\n",
       "        [103, 104, 105]],\n",
       "\n",
       "       [[106, 107, 108],\n",
       "        [109, 110, 111]],\n",
       "\n",
       "       [[112, 113, 114],\n",
       "        [115, 116, 117]],\n",
       "\n",
       "       [[118, 119, 120],\n",
       "        [121, 122, 123]]])"
      ]
     },
     "execution_count": 17,
     "metadata": {},
     "output_type": "execute_result"
    },
    {
     "data": {
      "text/plain": [
       "array([[[100, 101, 102, 103, 104, 105, 106, 107, 108, 109, 110, 111,\n",
       "         112, 113, 114, 115, 116, 117, 118, 119, 120, 121, 122, 123]]])"
      ]
     },
     "execution_count": 17,
     "metadata": {},
     "output_type": "execute_result"
    }
   ],
   "source": [
    "# Create a 3D array with 24 values starting from 100\n",
    "\n",
    "np.array(range(100,124)).reshape(4,2,3)\n",
    "np.array(range(100,124)).reshape(1,1,24)"
   ]
  },
  {
   "cell_type": "code",
   "execution_count": 18,
   "id": "887e7f89",
   "metadata": {},
   "outputs": [
    {
     "name": "stdout",
     "output_type": "stream",
     "text": [
      "[1 2 4 5 6] int32 20\n",
      "[1.2 3.4 2.4 3. ] float64 32\n"
     ]
    }
   ],
   "source": [
    "type1 = np.array([1,2,4,5,6])\n",
    "type2 = np.array([1.2,3.4,2.4,3])\n",
    "\n",
    "print(type1,type1.dtype,type1.nbytes)\n",
    "print(type2,type2.dtype,type2.nbytes)"
   ]
  },
  {
   "cell_type": "code",
   "execution_count": 19,
   "id": "04ac2c3a",
   "metadata": {},
   "outputs": [
    {
     "name": "stdout",
     "output_type": "stream",
     "text": [
      "['w' 'r' 'y' 's'] <U1\n",
      "['sumit' 'sugat' 'rohit' 'abhi'] <U5 80\n"
     ]
    }
   ],
   "source": [
    "type3 = np.array(['w','r','y','s'])\n",
    "type4 = np.array(['sumit','sugat','rohit','abhi'])\n",
    "\n",
    "print(type3, type3.dtype)\n",
    "print(type4,type4.dtype,type4.nbytes)"
   ]
  },
  {
   "cell_type": "markdown",
   "id": "6a44b451",
   "metadata": {},
   "source": [
    "## Special NumPy functions for generating arrays"
   ]
  },
  {
   "cell_type": "markdown",
   "id": "35ee4ab1",
   "metadata": {},
   "source": [
    "* From list: np.array\n",
    "* Numerical ranges: np.arange, np.linspace…\n",
    "* Homogeneous data: np.zeros, np.ones …\n",
    "* Random numbers: np.random.rand, np.random.randint…"
   ]
  },
  {
   "cell_type": "markdown",
   "id": "a8edc287",
   "metadata": {},
   "source": [
    "### 1 array with arange()"
   ]
  },
  {
   "cell_type": "markdown",
   "id": "7d31c558",
   "metadata": {},
   "source": [
    "> The arange() function creates an array with evenly spaced values between the specified start, end, and increment values.\n",
    "\n",
    "**syntax:**\n",
    "\n",
    "np.arange(start,end,increment)"
   ]
  },
  {
   "cell_type": "code",
   "execution_count": 20,
   "id": "900cacc4",
   "metadata": {},
   "outputs": [
    {
     "name": "stdout",
     "output_type": "stream",
     "text": [
      "[0 1 2 3 4]\n",
      "[0 1 2 3 4]\n",
      "------------------------------\n",
      "[[0 1 2 3 4]\n",
      " [5 6 7 8 9]]\n",
      "------------------------------\n",
      "[[0 1 2]\n",
      " [3 4 5]\n",
      " [6 7 8]]\n"
     ]
    }
   ],
   "source": [
    "arr = np.arange(5)\n",
    "print(arr)\n",
    "# same as\n",
    "print(np.array(range(5)))\n",
    "print('-'*30)\n",
    "array2 = np.arange(0,10,1).reshape(2,5)\n",
    "print(array2)\n",
    "print(\"-\"*30)\n",
    "arra = np.arange(9).reshape(3,3)\n",
    "print(arra)"
   ]
  },
  {
   "cell_type": "markdown",
   "id": "c6f30a4d",
   "metadata": {},
   "source": [
    "### 2. Arrays with linspace()"
   ]
  },
  {
   "cell_type": "markdown",
   "id": "4d1679a6",
   "metadata": {},
   "source": [
    "> The linspace() function generates an array with evenly spaced values between specified start and end values, using a specified number of elements.\n",
    "\n",
    "**Syntax:**\n",
    "\n",
    "np.linspace(Start, End, Number of elements)"
   ]
  },
  {
   "cell_type": "code",
   "execution_count": 21,
   "id": "38669578",
   "metadata": {},
   "outputs": [
    {
     "name": "stdout",
     "output_type": "stream",
     "text": [
      "[10. 11. 12. 13.]\n",
      "********************\n",
      "[10.         10.57142857 11.14285714 11.71428571 12.28571429 12.85714286\n",
      " 13.42857143 14.        ]\n",
      "--------------------\n",
      "[[10. 11. 12.]\n",
      " [13. 14. 15.]\n",
      " [16. 17. 18.]\n",
      " [19. 20. 21.]]\n"
     ]
    }
   ],
   "source": [
    "arrr3 = np.linspace(10,13,4)\n",
    "print(arrr3)\n",
    "print('*'*20)\n",
    "arry2 = (np.linspace(10,14,8))\n",
    "print(arry2)\n",
    "print('-'*20)\n",
    "ar = np.linspace(10,21,12).reshape(4,3)\n",
    "print(ar)"
   ]
  },
  {
   "cell_type": "markdown",
   "id": "df31b18a",
   "metadata": {},
   "source": [
    "### 3. Zero Array& ones  \n",
    "> The zeros() function, generates an array with the specified dimensions and data type that is filled with zeros."
   ]
  },
  {
   "cell_type": "code",
   "execution_count": 22,
   "id": "1d79d777",
   "metadata": {},
   "outputs": [
    {
     "name": "stdout",
     "output_type": "stream",
     "text": [
      "[0. 0. 0.]\n",
      "------------------------------\n",
      "[[0. 0. 0. 0. 0. 0.]\n",
      " [0. 0. 0. 0. 0. 0.]]\n",
      "------------------------------\n",
      "[[[0. 0. 0. 0. 0. 0.]\n",
      "  [0. 0. 0. 0. 0. 0.]\n",
      "  [0. 0. 0. 0. 0. 0.]\n",
      "  [0. 0. 0. 0. 0. 0.]]\n",
      "\n",
      " [[0. 0. 0. 0. 0. 0.]\n",
      "  [0. 0. 0. 0. 0. 0.]\n",
      "  [0. 0. 0. 0. 0. 0.]\n",
      "  [0. 0. 0. 0. 0. 0.]]]\n",
      "------------------------------\n",
      "[1. 1. 1. 1.]\n",
      "------------------------------\n",
      "[[1. 1. 1. 1.]\n",
      " [1. 1. 1. 1.]]\n",
      "------------------------------\n",
      "[[[1. 1. 1. 1. 1. 1.]\n",
      "  [1. 1. 1. 1. 1. 1.]\n",
      "  [1. 1. 1. 1. 1. 1.]]\n",
      "\n",
      " [[1. 1. 1. 1. 1. 1.]\n",
      "  [1. 1. 1. 1. 1. 1.]\n",
      "  [1. 1. 1. 1. 1. 1.]]]\n"
     ]
    }
   ],
   "source": [
    "arr = np.zeros(3)\n",
    "print(arr)\n",
    "print('-'*30)\n",
    "arr1 = np.zeros((2,6))\n",
    "print(arr1)\n",
    "print('-'*30)\n",
    "arr2 = np.zeros((2,4,6))\n",
    "print(arr2)\n",
    "print('-'*30)\n",
    "arra = np.ones(4)\n",
    "print(arra)\n",
    "print('-'*30)\n",
    "arra3 = np.ones((2,4))\n",
    "print(arra3)\n",
    "print('-'*30)\n",
    "arr = np.ones((2,3,6))\n",
    "print(arr)"
   ]
  },
  {
   "cell_type": "markdown",
   "id": "b2111463",
   "metadata": {},
   "source": [
    "### 4 full array"
   ]
  },
  {
   "cell_type": "code",
   "execution_count": 23,
   "id": "b43db74c",
   "metadata": {},
   "outputs": [
    {
     "name": "stdout",
     "output_type": "stream",
     "text": [
      "[5 5 5 5 5 5 5 5 5 5 5 5 5 5 5]\n",
      "------------------------------\n",
      "[[2 2 2]\n",
      " [2 2 2]\n",
      " [2 2 2]\n",
      " [2 2 2]\n",
      " [2 2 2]]\n",
      "------------------------------\n"
     ]
    }
   ],
   "source": [
    "ar2 = np.full((15),5)\n",
    "print(ar2)\n",
    "print('-'*30)\n",
    "arr2 =np.full((5,3),2)\n",
    "print(arr2)\n",
    "print('-'*30)\n"
   ]
  },
  {
   "cell_type": "markdown",
   "id": "430d2a31",
   "metadata": {},
   "source": [
    "### 5 eyes array"
   ]
  },
  {
   "cell_type": "code",
   "execution_count": 24,
   "id": "0575f4c6",
   "metadata": {},
   "outputs": [
    {
     "name": "stdout",
     "output_type": "stream",
     "text": [
      "[[1. 0. 0.]\n",
      " [0. 1. 0.]\n",
      " [0. 0. 1.]]\n"
     ]
    }
   ],
   "source": [
    "arr= np.eye(3)\n",
    "print(arr)"
   ]
  },
  {
   "cell_type": "code",
   "execution_count": 25,
   "id": "5a689543",
   "metadata": {},
   "outputs": [
    {
     "name": "stdout",
     "output_type": "stream",
     "text": [
      "[[1. 0. 0. 0.]\n",
      " [0. 1. 0. 0.]\n",
      " [0. 0. 1. 0.]\n",
      " [0. 0. 0. 1.]]\n",
      "------------------------------\n",
      "[[1. 0. 0. 0. 0.]\n",
      " [0. 1. 0. 0. 0.]\n",
      " [0. 0. 1. 0. 0.]\n",
      " [0. 0. 0. 1. 0.]\n",
      " [0. 0. 0. 0. 1.]]\n",
      "------------------------------\n",
      "[[0. 0. 0. 0. 1.]\n",
      " [0. 0. 0. 1. 0.]\n",
      " [0. 0. 1. 0. 0.]\n",
      " [0. 1. 0. 0. 0.]\n",
      " [1. 0. 0. 0. 0.]]\n"
     ]
    }
   ],
   "source": [
    "arr2 = np.eye(4)\n",
    "print(arr2)\n",
    "print('-'*30)\n",
    "arr1 = np.eye(5)\n",
    "print(arr1)\n",
    "print('-'*30)\n",
    "print(np.rot90(arr1))"
   ]
  },
  {
   "cell_type": "markdown",
   "id": "a2aa09df",
   "metadata": {},
   "source": [
    "### Identity and Diagonal Array"
   ]
  },
  {
   "cell_type": "code",
   "execution_count": 26,
   "id": "3f0fd393",
   "metadata": {},
   "outputs": [
    {
     "name": "stdout",
     "output_type": "stream",
     "text": [
      "[[1. 0. 0. 0. 0.]\n",
      " [0. 1. 0. 0. 0.]\n",
      " [0. 0. 1. 0. 0.]\n",
      " [0. 0. 0. 1. 0.]\n",
      " [0. 0. 0. 0. 1.]]\n",
      "------------------------------\n",
      "[1. 1. 1. 1. 1.]\n",
      "------------------------------\n",
      "[1. 1. 1.]\n",
      "------------------------------\n",
      "[[3 0 0 0 0]\n",
      " [0 4 0 0 0]\n",
      " [0 0 5 0 0]\n",
      " [0 0 0 6 0]\n",
      " [0 0 0 0 7]]\n",
      "[3 4 5 6]\n"
     ]
    }
   ],
   "source": [
    "print(np.identity(5))\n",
    "print('-'*30)\n",
    "print(np.diag(np.identity(5)))\n",
    "print('-'*30)\n",
    "print(np.diag(np.identity(3)))\n",
    "print('-'*30)\n",
    "print(np.diag(np.arange(3,8)))\n",
    "print(np.diag(np.diag(np.arange(3,7))))"
   ]
  },
  {
   "cell_type": "markdown",
   "id": "2a2b78ac",
   "metadata": {},
   "source": [
    "## Numpy Random Numbers\n",
    "* The np.random.rand method, generates an array with random numbers that are uniformly distributed between 0 and 1.\n",
    "\n",
    "* The np.random.randn method, generates an array with random numbers that are normally distributed with mean = 0 and sd = 1.\n",
    "\n",
    "* The np.random.randint method, generates an array with random numbers that are uniformly distributed between 0 and given integer.\n",
    "\n",
    "* The np.random.uniform method, generates random float values."
   ]
  },
  {
   "cell_type": "code",
   "execution_count": 27,
   "id": "d15c1e3f",
   "metadata": {},
   "outputs": [
    {
     "name": "stdout",
     "output_type": "stream",
     "text": [
      "None\n",
      "[[0.52602843 0.68531719 0.83567419]\n",
      " [0.65376526 0.03702195 0.18015566]\n",
      " [0.76056942 0.22430462 0.73513507]]\n",
      "------------------------------\n",
      "[[ 1.00333914 -0.91596844  0.10388737]\n",
      " [ 1.50120804 -0.20745062  0.82179006]\n",
      " [-0.14253236 -0.79882014 -0.83804721]]\n",
      "------------------------------\n",
      "-0.0 1.0\n",
      "------------------------------\n",
      "[[37 14 19 15]\n",
      " [25 30 14 34]\n",
      " [39 39 14 42]]\n",
      "----------------------------------------\n",
      "[[56 57 51 59 47 57]\n",
      " [50 42 53 44 42 44]\n",
      " [42 59 46 42 56 47]\n",
      " [59 55 58 40 54 54]]\n"
     ]
    }
   ],
   "source": [
    "df=np.random.seed(222)\n",
    "print(df)\n",
    "\n",
    "df1 = np.random.rand(3,3) # uniformly distribute value \n",
    "print(df1)\n",
    "print('-'*30)\n",
    "df2 = np.random.randn(3,3) #normaly distribute value \n",
    "print(df2)\n",
    "print('-'*30)\n",
    "x = np.random.randn(1,3)\n",
    "print(np.round(np.mean(x)),np.round(np.std(x)))\n",
    "print('-'*30)\n",
    "df3 = np.random.randint(10,50, size = (3,4))\n",
    "print(df3)\n",
    "print('-'*40)\n",
    "df5 = np.random.randint(40,60,size = (4,6))\n",
    "print(df5)\n",
    "df4 = np.random.uniform(10,50,size =(0,0))"
   ]
  },
  {
   "cell_type": "markdown",
   "id": "addeddb2",
   "metadata": {},
   "source": [
    "### Array Indexing"
   ]
  },
  {
   "cell_type": "code",
   "execution_count": 28,
   "id": "977dbf5f",
   "metadata": {},
   "outputs": [
    {
     "name": "stdout",
     "output_type": "stream",
     "text": [
      "[50 51 52 53 54 55 56 57 58 59 60 61 62 63 64 65 66 67 68 69 70 71 72 73\n",
      " 74 75 76 77 78 79 80 81 82 83 84 85 86 87 88 89 90 91 92 93 94 95 96 97\n",
      " 98 99]\n"
     ]
    }
   ],
   "source": [
    "arr2 = np.arange(50,100)\n",
    "print(arr2)"
   ]
  },
  {
   "cell_type": "code",
   "execution_count": 29,
   "id": "8b0a3f25",
   "metadata": {},
   "outputs": [
    {
     "name": "stdout",
     "output_type": "stream",
     "text": [
      "50\n",
      "99\n",
      "59\n",
      "85\n",
      "[59 69 79 89 99]\n",
      "[59 69 79 89 99]\n"
     ]
    }
   ],
   "source": [
    "print(arr2[0])\n",
    "print(arr2[-1])\n",
    "print(arr2[9])\n",
    "print(arr2[-15])\n",
    "print(arr2[[9,19,29,39,49]])\n",
    "print(arr2[range(9,50,10)])"
   ]
  },
  {
   "cell_type": "code",
   "execution_count": 30,
   "id": "2edcd773",
   "metadata": {},
   "outputs": [
    {
     "name": "stdout",
     "output_type": "stream",
     "text": [
      "[[50 51 52 53 54 55 56 57 58 59]\n",
      " [60 61 62 63 64 65 66 67 68 69]\n",
      " [70 71 72 73 74 75 76 77 78 79]\n",
      " [80 81 82 83 84 85 86 87 88 89]\n",
      " [90 91 92 93 94 95 96 97 98 99]]\n"
     ]
    }
   ],
   "source": [
    "arr3 = arr2.reshape(5,10)\n",
    "print(arr3)"
   ]
  },
  {
   "cell_type": "code",
   "execution_count": 31,
   "id": "8beff8f4",
   "metadata": {},
   "outputs": [
    {
     "name": "stdout",
     "output_type": "stream",
     "text": [
      "[50 51 52 53 54 55 56 57 58 59]\n",
      "[90 91 92 93 94 95 96 97 98 99]\n",
      "74\n",
      "81\n",
      "77\n"
     ]
    }
   ],
   "source": [
    "print(arr3[0])\n",
    "print(arr3[-1])\n",
    "print(arr3[2,4])\n",
    "print(arr3[3,1])\n",
    "print(arr3[2,7])"
   ]
  },
  {
   "cell_type": "code",
   "execution_count": 32,
   "id": "538ed591",
   "metadata": {},
   "outputs": [],
   "source": [
    "arr4 = arr2.reshape(5,5,2)"
   ]
  },
  {
   "cell_type": "code",
   "execution_count": 33,
   "id": "6a9053c0",
   "metadata": {},
   "outputs": [
    {
     "name": "stdout",
     "output_type": "stream",
     "text": [
      "[[[50 51]\n",
      "  [52 53]\n",
      "  [54 55]\n",
      "  [56 57]\n",
      "  [58 59]]\n",
      "\n",
      " [[60 61]\n",
      "  [62 63]\n",
      "  [64 65]\n",
      "  [66 67]\n",
      "  [68 69]]\n",
      "\n",
      " [[70 71]\n",
      "  [72 73]\n",
      "  [74 75]\n",
      "  [76 77]\n",
      "  [78 79]]\n",
      "\n",
      " [[80 81]\n",
      "  [82 83]\n",
      "  [84 85]\n",
      "  [86 87]\n",
      "  [88 89]]\n",
      "\n",
      " [[90 91]\n",
      "  [92 93]\n",
      "  [94 95]\n",
      "  [96 97]\n",
      "  [98 99]]]\n"
     ]
    }
   ],
   "source": [
    "print(arr4)"
   ]
  },
  {
   "cell_type": "code",
   "execution_count": 34,
   "id": "ee9d4b9b",
   "metadata": {},
   "outputs": [
    {
     "name": "stdout",
     "output_type": "stream",
     "text": [
      "[[50 51]\n",
      " [52 53]\n",
      " [54 55]\n",
      " [56 57]\n",
      " [58 59]]\n",
      "87\n",
      "87\n",
      "[96 97]\n"
     ]
    }
   ],
   "source": [
    "print(arr4[0])\n",
    "print(arr4[3,3,1])\n",
    "print(arr4[3][3][1])\n",
    "print(arr4[4][3])"
   ]
  },
  {
   "cell_type": "code",
   "execution_count": 35,
   "id": "ca55c0e6",
   "metadata": {},
   "outputs": [
    {
     "name": "stdout",
     "output_type": "stream",
     "text": [
      "[50 51 52 53 54 55 56 57 58 59 60 61 62 63 64 65 66 67 68 69 70 71 72 73\n",
      " 74 75 76 77 78 79 80 81 82 83 84 85 86 87 88 89 90 91 92 93 94 95 96 97\n",
      " 98 99]\n"
     ]
    }
   ],
   "source": [
    "print(arr2)"
   ]
  },
  {
   "cell_type": "code",
   "execution_count": 36,
   "id": "dfa0a2bf",
   "metadata": {},
   "outputs": [
    {
     "name": "stdout",
     "output_type": "stream",
     "text": [
      "[50 51 52 53 54 55 56 57 58 59]\n",
      "[52 53 54 55]\n",
      "[52 53 54 55]\n"
     ]
    }
   ],
   "source": [
    "print(arr2[range(0,10)])\n",
    "print(arr2[2:6])\n",
    "print(arr2[0:10][2:6])"
   ]
  },
  {
   "cell_type": "code",
   "execution_count": 37,
   "id": "80d09221",
   "metadata": {},
   "outputs": [
    {
     "name": "stdout",
     "output_type": "stream",
     "text": [
      "[[50 51 52 53 54 55 56 57 58 59]\n",
      " [60 61 62 63 64 65 66 67 68 69]\n",
      " [70 71 72 73 74 75 76 77 78 79]\n",
      " [80 81 82 83 84 85 86 87 88 89]\n",
      " [90 91 92 93 94 95 96 97 98 99]]\n"
     ]
    }
   ],
   "source": [
    "print(arr3)"
   ]
  },
  {
   "cell_type": "code",
   "execution_count": 38,
   "id": "b7d9c675",
   "metadata": {},
   "outputs": [
    {
     "name": "stdout",
     "output_type": "stream",
     "text": [
      "[[70 71 72 73 74 75 76 77 78 79]\n",
      " [80 81 82 83 84 85 86 87 88 89]\n",
      " [90 91 92 93 94 95 96 97 98 99]]\n"
     ]
    }
   ],
   "source": [
    "print(arr3[2:6])"
   ]
  },
  {
   "cell_type": "code",
   "execution_count": 39,
   "id": "adac751e",
   "metadata": {},
   "outputs": [
    {
     "name": "stdout",
     "output_type": "stream",
     "text": [
      "[[70 71 72 73 74 75 76 77 78 79]\n",
      " [80 81 82 83 84 85 86 87 88 89]\n",
      " [90 91 92 93 94 95 96 97 98 99]]\n",
      "[[61 62 63]\n",
      " [71 72 73]\n",
      " [81 82 83]]\n",
      "[[75 76 77 78 79]\n",
      " [85 86 87 88 89]\n",
      " [95 96 97 98 99]]\n"
     ]
    }
   ],
   "source": [
    "print(arr3[2:5,:])\n",
    "print(arr3[1:4,1:4])\n",
    "print(arr3[2:5,5:])"
   ]
  },
  {
   "cell_type": "code",
   "execution_count": 40,
   "id": "adfb0b21",
   "metadata": {},
   "outputs": [
    {
     "name": "stdout",
     "output_type": "stream",
     "text": [
      "[[50 60 70 80 90]\n",
      " [51 61 71 81 91]\n",
      " [52 62 72 82 92]\n",
      " [53 63 73 83 93]\n",
      " [54 64 74 84 94]\n",
      " [55 65 75 85 95]\n",
      " [56 66 76 86 96]\n",
      " [57 67 77 87 97]\n",
      " [58 68 78 88 98]\n",
      " [59 69 79 89 99]]\n"
     ]
    }
   ],
   "source": [
    "print(np.transpose(arr3))"
   ]
  },
  {
   "cell_type": "code",
   "execution_count": 41,
   "id": "71f72d1d",
   "metadata": {},
   "outputs": [
    {
     "data": {
      "text/plain": [
       "array([[59, 58, 57, 56, 55, 54, 53, 52, 51, 50],\n",
       "       [69, 68, 67, 66, 65, 64, 63, 62, 61, 60],\n",
       "       [79, 78, 77, 76, 75, 74, 73, 72, 71, 70],\n",
       "       [89, 88, 87, 86, 85, 84, 83, 82, 81, 80],\n",
       "       [99, 98, 97, 96, 95, 94, 93, 92, 91, 90]])"
      ]
     },
     "execution_count": 41,
     "metadata": {},
     "output_type": "execute_result"
    }
   ],
   "source": [
    "np.fliplr(arr3)"
   ]
  },
  {
   "cell_type": "code",
   "execution_count": 42,
   "id": "503990d3",
   "metadata": {},
   "outputs": [
    {
     "data": {
      "text/plain": [
       "array([[90, 91, 92, 93, 94, 95, 96, 97, 98, 99],\n",
       "       [80, 81, 82, 83, 84, 85, 86, 87, 88, 89],\n",
       "       [70, 71, 72, 73, 74, 75, 76, 77, 78, 79],\n",
       "       [60, 61, 62, 63, 64, 65, 66, 67, 68, 69],\n",
       "       [50, 51, 52, 53, 54, 55, 56, 57, 58, 59]])"
      ]
     },
     "execution_count": 42,
     "metadata": {},
     "output_type": "execute_result"
    }
   ],
   "source": [
    "np.flipud(arr3)"
   ]
  },
  {
   "cell_type": "code",
   "execution_count": 43,
   "id": "1131588a",
   "metadata": {},
   "outputs": [
    {
     "data": {
      "text/plain": [
       "array([[59, 58, 57, 56, 55, 54, 53, 52, 51, 50],\n",
       "       [69, 68, 67, 66, 65, 64, 63, 62, 61, 60],\n",
       "       [79, 78, 77, 76, 75, 74, 73, 72, 71, 70],\n",
       "       [89, 88, 87, 86, 85, 84, 83, 82, 81, 80],\n",
       "       [99, 98, 97, 96, 95, 94, 93, 92, 91, 90]])"
      ]
     },
     "execution_count": 43,
     "metadata": {},
     "output_type": "execute_result"
    }
   ],
   "source": [
    "np.flip(arr3 ,axis=1)"
   ]
  },
  {
   "cell_type": "code",
   "execution_count": 44,
   "id": "d546b345",
   "metadata": {},
   "outputs": [
    {
     "data": {
      "text/plain": [
       "array([[90, 91, 92, 93, 94, 95, 96, 97, 98, 99],\n",
       "       [80, 81, 82, 83, 84, 85, 86, 87, 88, 89],\n",
       "       [70, 71, 72, 73, 74, 75, 76, 77, 78, 79],\n",
       "       [60, 61, 62, 63, 64, 65, 66, 67, 68, 69],\n",
       "       [50, 51, 52, 53, 54, 55, 56, 57, 58, 59]])"
      ]
     },
     "execution_count": 44,
     "metadata": {},
     "output_type": "execute_result"
    }
   ],
   "source": [
    "np.flip(arr3,axis=0)"
   ]
  },
  {
   "cell_type": "markdown",
   "id": "ea7c8de4",
   "metadata": {},
   "source": [
    "### Statistical functions"
   ]
  },
  {
   "cell_type": "code",
   "execution_count": 52,
   "id": "9a0232f6",
   "metadata": {},
   "outputs": [
    {
     "name": "stdout",
     "output_type": "stream",
     "text": [
      "74.5\n",
      "74.5\n",
      "208.25\n",
      "14.430869689661812\n",
      "3725\n",
      "50\n",
      "99\n"
     ]
    }
   ],
   "source": [
    "print(np.mean(arr3))\n",
    "print(np.median(arr3))\n",
    "print(np.var(arr3)) # var = variance\n",
    "print(np.std(arr3)) #std = str Dev\n",
    "print(np.sum(arr3))\n",
    "print(np.min(arr3))\n",
    "print(np.max(arr3))"
   ]
  },
  {
   "cell_type": "code",
   "execution_count": 54,
   "id": "54414f85",
   "metadata": {},
   "outputs": [
    {
     "data": {
      "text/plain": [
       "3.5"
      ]
     },
     "execution_count": 54,
     "metadata": {},
     "output_type": "execute_result"
    },
    {
     "data": {
      "text/plain": [
       "3.0"
      ]
     },
     "execution_count": 54,
     "metadata": {},
     "output_type": "execute_result"
    }
   ],
   "source": [
    "np.median(np.array(range(8)))\n",
    "np.median(np.array(range(7)))"
   ]
  },
  {
   "cell_type": "markdown",
   "id": "f9f5ebc3",
   "metadata": {},
   "source": [
    "### Stacking of arrays\n",
    "\n",
    "* Vertical stacking(row wise) using vstack()\n",
    "* Horizontal stacking(column wise) using hstack()\n",
    "* Depth wise stacking(along third axis) using dstack()"
   ]
  },
  {
   "cell_type": "code",
   "execution_count": 67,
   "id": "3b24fae6",
   "metadata": {},
   "outputs": [],
   "source": [
    "a = np.arange(1,13).reshape(3,4)\n",
    "b = np.arange(1,9).reshape(2,4)\n",
    "c = np.arange(1,7).reshape(3,2)"
   ]
  },
  {
   "cell_type": "code",
   "execution_count": 68,
   "id": "78d1e2b9",
   "metadata": {},
   "outputs": [
    {
     "name": "stdout",
     "output_type": "stream",
     "text": [
      "[[ 1  2  3  4]\n",
      " [ 5  6  7  8]\n",
      " [ 9 10 11 12]]\n",
      "\n",
      "[[1 2 3 4]\n",
      " [5 6 7 8]]\n",
      "\n",
      "[[1 2]\n",
      " [3 4]\n",
      " [5 6]]\n"
     ]
    }
   ],
   "source": [
    "print(a,b,c,sep = '\\n\\n')"
   ]
  },
  {
   "cell_type": "code",
   "execution_count": 69,
   "id": "442579f5",
   "metadata": {},
   "outputs": [
    {
     "data": {
      "text/plain": [
       "array([[ 1,  2,  3,  4,  1,  2],\n",
       "       [ 5,  6,  7,  8,  3,  4],\n",
       "       [ 9, 10, 11, 12,  5,  6]])"
      ]
     },
     "execution_count": 69,
     "metadata": {},
     "output_type": "execute_result"
    }
   ],
   "source": [
    "np.hstack((a,c))"
   ]
  },
  {
   "cell_type": "code",
   "execution_count": 70,
   "id": "ac02010a",
   "metadata": {},
   "outputs": [
    {
     "data": {
      "text/plain": [
       "array([[ 1,  2,  3,  4],\n",
       "       [ 5,  6,  7,  8],\n",
       "       [ 9, 10, 11, 12],\n",
       "       [ 1,  2,  3,  4],\n",
       "       [ 5,  6,  7,  8]])"
      ]
     },
     "execution_count": 70,
     "metadata": {},
     "output_type": "execute_result"
    }
   ],
   "source": [
    "np.vstack((a,b))"
   ]
  },
  {
   "cell_type": "code",
   "execution_count": 73,
   "id": "7c388778",
   "metadata": {},
   "outputs": [
    {
     "name": "stdout",
     "output_type": "stream",
     "text": [
      "[[1. 1. 1. 1.]\n",
      " [1. 1. 1. 1.]\n",
      " [1. 1. 1. 1.]]\n"
     ]
    }
   ],
   "source": [
    "d = np.ones((3,4))\n",
    "print(d)"
   ]
  },
  {
   "cell_type": "code",
   "execution_count": 75,
   "id": "cf97e860",
   "metadata": {},
   "outputs": [
    {
     "data": {
      "text/plain": [
       "array([[[ 1.,  1.],\n",
       "        [ 2.,  1.],\n",
       "        [ 3.,  1.],\n",
       "        [ 4.,  1.]],\n",
       "\n",
       "       [[ 5.,  1.],\n",
       "        [ 6.,  1.],\n",
       "        [ 7.,  1.],\n",
       "        [ 8.,  1.]],\n",
       "\n",
       "       [[ 9.,  1.],\n",
       "        [10.,  1.],\n",
       "        [11.,  1.],\n",
       "        [12.,  1.]]])"
      ]
     },
     "execution_count": 75,
     "metadata": {},
     "output_type": "execute_result"
    }
   ],
   "source": [
    "np.dstack((a,d))"
   ]
  },
  {
   "cell_type": "markdown",
   "id": "cc35ef59",
   "metadata": {},
   "source": [
    "### Splitting of arrays"
   ]
  },
  {
   "cell_type": "code",
   "execution_count": 76,
   "id": "733174e2",
   "metadata": {},
   "outputs": [],
   "source": [
    "arr2 = np.arange(1,25).reshape(4,6)"
   ]
  },
  {
   "cell_type": "code",
   "execution_count": 77,
   "id": "6456a447",
   "metadata": {},
   "outputs": [
    {
     "name": "stdout",
     "output_type": "stream",
     "text": [
      "[[ 1  2  3  4  5  6]\n",
      " [ 7  8  9 10 11 12]\n",
      " [13 14 15 16 17 18]\n",
      " [19 20 21 22 23 24]]\n"
     ]
    }
   ],
   "source": [
    "print(arr2)"
   ]
  },
  {
   "cell_type": "code",
   "execution_count": 82,
   "id": "c9c41331",
   "metadata": {},
   "outputs": [
    {
     "data": {
      "text/plain": [
       "[array([[ 1,  2],\n",
       "        [ 7,  8],\n",
       "        [13, 14],\n",
       "        [19, 20]]),\n",
       " array([[ 3,  4],\n",
       "        [ 9, 10],\n",
       "        [15, 16],\n",
       "        [21, 22]]),\n",
       " array([[ 5,  6],\n",
       "        [11, 12],\n",
       "        [17, 18],\n",
       "        [23, 24]])]"
      ]
     },
     "execution_count": 82,
     "metadata": {},
     "output_type": "execute_result"
    }
   ],
   "source": [
    "np.hsplit(arr2,3)"
   ]
  },
  {
   "cell_type": "code",
   "execution_count": 83,
   "id": "cad620ff",
   "metadata": {},
   "outputs": [
    {
     "data": {
      "text/plain": [
       "[array([[ 1,  2,  3],\n",
       "        [ 7,  8,  9],\n",
       "        [13, 14, 15],\n",
       "        [19, 20, 21]]),\n",
       " array([[ 4,  5,  6],\n",
       "        [10, 11, 12],\n",
       "        [16, 17, 18],\n",
       "        [22, 23, 24]])]"
      ]
     },
     "execution_count": 83,
     "metadata": {},
     "output_type": "execute_result"
    }
   ],
   "source": [
    "np.hsplit(arr2,2)"
   ]
  },
  {
   "cell_type": "code",
   "execution_count": 84,
   "id": "f712bd26",
   "metadata": {},
   "outputs": [
    {
     "data": {
      "text/plain": [
       "[array([[ 1,  2,  3,  4,  5,  6],\n",
       "        [ 7,  8,  9, 10, 11, 12]]),\n",
       " array([[13, 14, 15, 16, 17, 18],\n",
       "        [19, 20, 21, 22, 23, 24]])]"
      ]
     },
     "execution_count": 84,
     "metadata": {},
     "output_type": "execute_result"
    }
   ],
   "source": [
    "np.vsplit(arr2,2)"
   ]
  },
  {
   "cell_type": "code",
   "execution_count": 86,
   "id": "396511e8",
   "metadata": {},
   "outputs": [
    {
     "data": {
      "text/plain": [
       "[array([[1, 2, 3, 4, 5, 6]]),\n",
       " array([[ 7,  8,  9, 10, 11, 12]]),\n",
       " array([[13, 14, 15, 16, 17, 18]]),\n",
       " array([[19, 20, 21, 22, 23, 24]])]"
      ]
     },
     "execution_count": 86,
     "metadata": {},
     "output_type": "execute_result"
    }
   ],
   "source": [
    "np.vsplit(arr2,4)"
   ]
  },
  {
   "cell_type": "markdown",
   "id": "b9d03f79",
   "metadata": {},
   "source": [
    "### append() & concatenate()"
   ]
  },
  {
   "cell_type": "code",
   "execution_count": 89,
   "id": "4946f152",
   "metadata": {},
   "outputs": [
    {
     "data": {
      "text/plain": [
       "array([[ 1,  2,  3,  4,  1,  2],\n",
       "       [ 5,  6,  7,  8,  3,  4],\n",
       "       [ 9, 10, 11, 12,  5,  6]])"
      ]
     },
     "execution_count": 89,
     "metadata": {},
     "output_type": "execute_result"
    },
    {
     "data": {
      "text/plain": [
       "array([[ 1,  2,  3,  4],\n",
       "       [ 5,  6,  7,  8],\n",
       "       [ 9, 10, 11, 12],\n",
       "       [ 1,  2,  3,  4],\n",
       "       [ 5,  6,  7,  8]])"
      ]
     },
     "execution_count": 89,
     "metadata": {},
     "output_type": "execute_result"
    }
   ],
   "source": [
    "np.concatenate((a,c),axis = 1)\n",
    "np.concatenate((a,b),axis = 0)"
   ]
  },
  {
   "cell_type": "markdown",
   "id": "62a84af8",
   "metadata": {},
   "source": [
    "### Updating an array with where()"
   ]
  },
  {
   "cell_type": "code",
   "execution_count": 93,
   "id": "0d84a270",
   "metadata": {},
   "outputs": [],
   "source": [
    "a = np.arange(50,80).reshape(5,6)\n",
    "b = np.arange(60,90).reshape(5,6)"
   ]
  },
  {
   "cell_type": "code",
   "execution_count": 94,
   "id": "1221d535",
   "metadata": {},
   "outputs": [
    {
     "name": "stdout",
     "output_type": "stream",
     "text": [
      "[[50 51 52 53 54 55]\n",
      " [56 57 58 59 60 61]\n",
      " [62 63 64 65 66 67]\n",
      " [68 69 70 71 72 73]\n",
      " [74 75 76 77 78 79]]\n",
      "\n",
      "[[60 61 62 63 64 65]\n",
      " [66 67 68 69 70 71]\n",
      " [72 73 74 75 76 77]\n",
      " [78 79 80 81 82 83]\n",
      " [84 85 86 87 88 89]]\n"
     ]
    }
   ],
   "source": [
    "print(a,b, sep = '\\n\\n')"
   ]
  },
  {
   "cell_type": "code",
   "execution_count": 97,
   "id": "ecb4acd5",
   "metadata": {},
   "outputs": [
    {
     "data": {
      "text/plain": [
       "array([[1, 0, 1, 0, 1, 0],\n",
       "       [1, 0, 1, 0, 1, 0],\n",
       "       [1, 0, 1, 0, 1, 0],\n",
       "       [1, 0, 1, 0, 1, 0],\n",
       "       [1, 0, 1, 0, 1, 0]])"
      ]
     },
     "execution_count": 97,
     "metadata": {},
     "output_type": "execute_result"
    },
    {
     "data": {
      "text/plain": [
       "15"
      ]
     },
     "execution_count": 97,
     "metadata": {},
     "output_type": "execute_result"
    }
   ],
   "source": [
    "np.where(a%2==0,1,0)\n",
    "np.sum(np.where(a%2==0,1,0))"
   ]
  },
  {
   "cell_type": "code",
   "execution_count": 98,
   "id": "95bed6d1",
   "metadata": {},
   "outputs": [
    {
     "data": {
      "text/plain": [
       "array([[False, False, False, False, False, False],\n",
       "       [False,  True,  True,  True,  True,  True],\n",
       "       [ True,  True,  True,  True,  True,  True],\n",
       "       [ True,  True,  True,  True,  True,  True],\n",
       "       [ True,  True,  True,  True,  True,  True]])"
      ]
     },
     "execution_count": 98,
     "metadata": {},
     "output_type": "execute_result"
    }
   ],
   "source": [
    "np.where(a>56,True,False)"
   ]
  },
  {
   "cell_type": "code",
   "execution_count": 99,
   "id": "cc8fe9f4",
   "metadata": {},
   "outputs": [
    {
     "data": {
      "text/plain": [
       "array([50, 51, 52, 53, 54, 55, 56, 57, 58, 59, 60, 61, 62, 63, 64, 65, 66,\n",
       "       67, 68, 69, 70, 71, 72, 73, 74, 75, 76, 77, 78, 79, 80, 81, 82, 83,\n",
       "       84, 85, 86, 87, 88, 89])"
      ]
     },
     "execution_count": 99,
     "metadata": {},
     "output_type": "execute_result"
    }
   ],
   "source": [
    "np.union1d(a,b)"
   ]
  },
  {
   "cell_type": "code",
   "execution_count": 100,
   "id": "5534c9eb",
   "metadata": {},
   "outputs": [
    {
     "data": {
      "text/plain": [
       "array([60, 61, 62, 63, 64, 65, 66, 67, 68, 69, 70, 71, 72, 73, 74, 75, 76,\n",
       "       77, 78, 79])"
      ]
     },
     "execution_count": 100,
     "metadata": {},
     "output_type": "execute_result"
    }
   ],
   "source": [
    "np.intersect1d(a,b)"
   ]
  },
  {
   "cell_type": "code",
   "execution_count": 101,
   "id": "4ad82cc5",
   "metadata": {},
   "outputs": [
    {
     "data": {
      "text/plain": [
       "array([50, 51, 52, 53, 54, 55, 56, 57, 58, 59])"
      ]
     },
     "execution_count": 101,
     "metadata": {},
     "output_type": "execute_result"
    }
   ],
   "source": [
    "np.setdiff1d(a,b)"
   ]
  },
  {
   "cell_type": "code",
   "execution_count": 102,
   "id": "b46932e0",
   "metadata": {},
   "outputs": [
    {
     "data": {
      "text/plain": [
       "array([80, 81, 82, 83, 84, 85, 86, 87, 88, 89])"
      ]
     },
     "execution_count": 102,
     "metadata": {},
     "output_type": "execute_result"
    }
   ],
   "source": [
    "np.setdiff1d(b,a)"
   ]
  },
  {
   "cell_type": "code",
   "execution_count": 107,
   "id": "56774ebb",
   "metadata": {},
   "outputs": [
    {
     "name": "stdout",
     "output_type": "stream",
     "text": [
      "[[17.17834087 10.47855133 19.44471978 16.8638004 ]\n",
      " [15.81207334 11.42678616 19.45919181 13.39990587]\n",
      " [16.20435458 14.52959644 12.3976742  10.34504591]]\n"
     ]
    }
   ],
   "source": [
    "np.random.seed(555)\n",
    "arr1 = np.random.uniform(10,20,(3,4))\n",
    "print(arr1)"
   ]
  },
  {
   "cell_type": "code",
   "execution_count": 108,
   "id": "46a46fb7",
   "metadata": {},
   "outputs": [
    {
     "data": {
      "text/plain": [
       "array([[17, 10, 19, 16],\n",
       "       [15, 11, 19, 13],\n",
       "       [16, 14, 12, 10]])"
      ]
     },
     "execution_count": 108,
     "metadata": {},
     "output_type": "execute_result"
    }
   ],
   "source": [
    "arr1.astype(int)"
   ]
  },
  {
   "cell_type": "code",
   "execution_count": 109,
   "id": "89737b03",
   "metadata": {
    "scrolled": true
   },
   "outputs": [
    {
     "data": {
      "text/plain": [
       "array([['17.178340874802497', '10.478551325561956', '19.44471977593777',\n",
       "        '16.863800396919427'],\n",
       "       ['15.812073341927952', '11.426786160283044', '19.45919180957477',\n",
       "        '13.399905866287362'],\n",
       "       ['16.2043545816585', '14.529596444285833', '12.397674196008914',\n",
       "        '10.345045909201573']], dtype='<U32')"
      ]
     },
     "execution_count": 109,
     "metadata": {},
     "output_type": "execute_result"
    }
   ],
   "source": [
    "arr1.astype(str)"
   ]
  },
  {
   "cell_type": "markdown",
   "id": "ca61ff21",
   "metadata": {},
   "source": [
    "### Array Broadcasting\n",
    "> Broadcasting allows binary operations to be performed on arrays of different sizes."
   ]
  },
  {
   "cell_type": "code",
   "execution_count": 110,
   "id": "57940a88",
   "metadata": {},
   "outputs": [
    {
     "data": {
      "text/plain": [
       "array([0, 1, 2])"
      ]
     },
     "execution_count": 110,
     "metadata": {},
     "output_type": "execute_result"
    }
   ],
   "source": [
    "np.arange(3)"
   ]
  },
  {
   "cell_type": "code",
   "execution_count": 112,
   "id": "4e03fdad",
   "metadata": {},
   "outputs": [
    {
     "data": {
      "text/plain": [
       "array([5, 6, 7])"
      ]
     },
     "execution_count": 112,
     "metadata": {},
     "output_type": "execute_result"
    }
   ],
   "source": [
    "np.arange(3)+5"
   ]
  },
  {
   "cell_type": "code",
   "execution_count": 114,
   "id": "6b1cdae3",
   "metadata": {},
   "outputs": [
    {
     "data": {
      "text/plain": [
       "array([[1., 2., 3.],\n",
       "       [1., 2., 3.],\n",
       "       [1., 2., 3.]])"
      ]
     },
     "execution_count": 114,
     "metadata": {},
     "output_type": "execute_result"
    }
   ],
   "source": [
    "np.ones((3,3)) +np.arange(3)"
   ]
  },
  {
   "cell_type": "code",
   "execution_count": null,
   "id": "e624e73d",
   "metadata": {},
   "outputs": [],
   "source": []
  }
 ],
 "metadata": {
  "kernelspec": {
   "display_name": "Python 3",
   "language": "python",
   "name": "python3"
  },
  "language_info": {
   "codemirror_mode": {
    "name": "ipython",
    "version": 3
   },
   "file_extension": ".py",
   "mimetype": "text/x-python",
   "name": "python",
   "nbconvert_exporter": "python",
   "pygments_lexer": "ipython3",
   "version": "3.8.8"
  }
 },
 "nbformat": 4,
 "nbformat_minor": 5
}
